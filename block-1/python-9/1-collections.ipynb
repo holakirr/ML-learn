{
 "cells": [
  {
   "cell_type": "markdown",
   "metadata": {},
   "source": [
    "# Collections"
   ]
  },
  {
   "cell_type": "markdown",
   "metadata": {},
   "source": [
    "## Counter"
   ]
  },
  {
   "cell_type": "code",
   "execution_count": 412,
   "metadata": {},
   "outputs": [],
   "source": [
    "from collections import Counter\n",
    "\n",
    "c = Counter()"
   ]
  },
  {
   "cell_type": "code",
   "execution_count": 413,
   "metadata": {},
   "outputs": [
    {
     "name": "stdout",
     "output_type": "stream",
     "text": [
      "Counter({'red': 1})\n"
     ]
    }
   ],
   "source": [
    "c[\"red\"] += 1\n",
    "\n",
    "print(c)"
   ]
  },
  {
   "cell_type": "markdown",
   "metadata": {},
   "source": [
    "С обычным словарем это не сработает:"
   ]
  },
  {
   "cell_type": "code",
   "execution_count": 414,
   "metadata": {},
   "outputs": [],
   "source": [
    "d = dict()\n",
    "# d['red'] += 1\n",
    "# KeyError                                  Traceback (most recent call last)\n",
    "# Cell In[42], line 2\n",
    "#       1 d = dict()\n",
    "# ----> 2 d['red'] += 1\n",
    "\n",
    "# KeyError: 'red'"
   ]
  },
  {
   "cell_type": "code",
   "execution_count": 415,
   "metadata": {},
   "outputs": [
    {
     "name": "stdout",
     "output_type": "stream",
     "text": [
      "{'red': 1}\n"
     ]
    }
   ],
   "source": [
    "d[\"red\"] = 0\n",
    "d[\"red\"] += 1\n",
    "print(d)"
   ]
  },
  {
   "cell_type": "markdown",
   "metadata": {},
   "source": [
    "Список цветов машин"
   ]
  },
  {
   "cell_type": "code",
   "execution_count": 416,
   "metadata": {},
   "outputs": [],
   "source": [
    "cars = [\"blue\", \"red\", \"blue\", \"red\", \"green\", \"red\", \"black\", \"black\"]"
   ]
  },
  {
   "cell_type": "code",
   "execution_count": 417,
   "metadata": {},
   "outputs": [
    {
     "name": "stdout",
     "output_type": "stream",
     "text": [
      "Counter({'red': 3, 'blue': 2, 'black': 2, 'green': 1})\n"
     ]
    }
   ],
   "source": [
    "c = Counter()\n",
    "\n",
    "for car in cars:\n",
    "    c[car] += 1\n",
    "\n",
    "print(c)"
   ]
  },
  {
   "cell_type": "markdown",
   "metadata": {},
   "source": [
    "Также можно посчитать другим способом:"
   ]
  },
  {
   "cell_type": "code",
   "execution_count": 418,
   "metadata": {},
   "outputs": [
    {
     "name": "stdout",
     "output_type": "stream",
     "text": [
      "Counter({'red': 3, 'blue': 2, 'black': 2, 'green': 1})\n"
     ]
    }
   ],
   "source": [
    "c = Counter(cars)\n",
    "print(c)"
   ]
  },
  {
   "cell_type": "code",
   "execution_count": 419,
   "metadata": {},
   "outputs": [
    {
     "name": "stdout",
     "output_type": "stream",
     "text": [
      "3\n"
     ]
    }
   ],
   "source": [
    "print(c[\"red\"])"
   ]
  },
  {
   "cell_type": "code",
   "execution_count": 420,
   "metadata": {},
   "outputs": [
    {
     "name": "stdout",
     "output_type": "stream",
     "text": [
      "0\n"
     ]
    }
   ],
   "source": [
    "print(c[\"yellow\"])"
   ]
  },
  {
   "cell_type": "code",
   "execution_count": 421,
   "metadata": {},
   "outputs": [
    {
     "name": "stdout",
     "output_type": "stream",
     "text": [
      "dict_values([2, 3, 1, 2])\n",
      "8\n"
     ]
    }
   ],
   "source": [
    "print(c.values())\n",
    "print(sum(c.values()))"
   ]
  },
  {
   "cell_type": "code",
   "execution_count": 422,
   "metadata": {},
   "outputs": [],
   "source": [
    "cars_msc = [\n",
    "    \"blue\",\n",
    "    \"red\",\n",
    "    \"blue\",\n",
    "    \"red\",\n",
    "    \"green\",\n",
    "    \"red\",\n",
    "    \"black\",\n",
    "    \"black\",\n",
    "    \"yellow\",\n",
    "    \"yellow\",\n",
    "    \"yellow\",\n",
    "    \"yellow\",\n",
    "]\n",
    "cars_spb = [\n",
    "    \"blue\",\n",
    "    \"red\",\n",
    "    \"blue\",\n",
    "    \"red\",\n",
    "    \"green\",\n",
    "    \"red\",\n",
    "    \"black\",\n",
    "    \"black\",\n",
    "    \"green\",\n",
    "    \"green\",\n",
    "    \"green\",\n",
    "    \"green\",\n",
    "]"
   ]
  },
  {
   "cell_type": "code",
   "execution_count": 423,
   "metadata": {},
   "outputs": [
    {
     "name": "stdout",
     "output_type": "stream",
     "text": [
      "Counter({'yellow': 4, 'red': 3, 'blue': 2, 'black': 2, 'green': 1})\n",
      "Counter({'green': 5, 'red': 3, 'blue': 2, 'black': 2})\n"
     ]
    }
   ],
   "source": [
    "counter_msc = Counter(cars_msc)\n",
    "counter_spb = Counter(cars_spb)\n",
    "print(counter_msc)\n",
    "print(counter_spb)"
   ]
  },
  {
   "cell_type": "code",
   "execution_count": 424,
   "metadata": {},
   "outputs": [
    {
     "name": "stdout",
     "output_type": "stream",
     "text": [
      "Counter({'red': 6, 'green': 6, 'blue': 4, 'black': 4, 'yellow': 4})\n"
     ]
    }
   ],
   "source": [
    "print(counter_msc + counter_spb)"
   ]
  },
  {
   "cell_type": "code",
   "execution_count": 425,
   "metadata": {},
   "outputs": [
    {
     "name": "stdout",
     "output_type": "stream",
     "text": [
      "Counter({'yellow': 4})\n"
     ]
    }
   ],
   "source": [
    "print(counter_msc - counter_spb)"
   ]
  },
  {
   "cell_type": "code",
   "execution_count": 426,
   "metadata": {},
   "outputs": [
    {
     "name": "stdout",
     "output_type": "stream",
     "text": [
      "Counter({'yellow': 4, 'blue': 0, 'red': 0, 'black': 0, 'green': -4})\n"
     ]
    }
   ],
   "source": [
    "counter_msc.subtract(counter_spb)\n",
    "print(counter_msc)"
   ]
  },
  {
   "cell_type": "code",
   "execution_count": 427,
   "metadata": {},
   "outputs": [
    {
     "name": "stdout",
     "output_type": "stream",
     "text": [
      "blue blue red red red green black black yellow yellow yellow yellow\n"
     ]
    }
   ],
   "source": [
    "counter_msc = Counter(cars_msc)\n",
    "print(*counter_msc.elements())"
   ]
  },
  {
   "cell_type": "code",
   "execution_count": 428,
   "metadata": {},
   "outputs": [
    {
     "name": "stdout",
     "output_type": "stream",
     "text": [
      "['blue', 'red', 'green', 'black', 'yellow']\n"
     ]
    }
   ],
   "source": [
    "print(list(counter_msc))"
   ]
  },
  {
   "cell_type": "code",
   "execution_count": 429,
   "metadata": {},
   "outputs": [
    {
     "name": "stdout",
     "output_type": "stream",
     "text": [
      "{'blue': 2, 'red': 3, 'green': 1, 'black': 2, 'yellow': 4}\n"
     ]
    }
   ],
   "source": [
    "print(dict(counter_msc))"
   ]
  },
  {
   "cell_type": "code",
   "execution_count": 430,
   "metadata": {},
   "outputs": [
    {
     "data": {
      "text/plain": [
       "[('yellow', 4), ('red', 3), ('blue', 2), ('black', 2), ('green', 1)]"
      ]
     },
     "execution_count": 430,
     "metadata": {},
     "output_type": "execute_result"
    }
   ],
   "source": [
    "counter_msc.most_common()"
   ]
  },
  {
   "cell_type": "code",
   "execution_count": 431,
   "metadata": {},
   "outputs": [
    {
     "data": {
      "text/plain": [
       "[('yellow', 4), ('red', 3)]"
      ]
     },
     "execution_count": 431,
     "metadata": {},
     "output_type": "execute_result"
    }
   ],
   "source": [
    "counter_msc.most_common(2)"
   ]
  },
  {
   "cell_type": "code",
   "execution_count": 432,
   "metadata": {},
   "outputs": [
    {
     "name": "stdout",
     "output_type": "stream",
     "text": [
      "Counter()\n"
     ]
    }
   ],
   "source": [
    "counter_msc.clear()\n",
    "print(counter_msc)"
   ]
  },
  {
   "cell_type": "markdown",
   "metadata": {},
   "source": [
    "## Defaultdict"
   ]
  },
  {
   "cell_type": "markdown",
   "metadata": {},
   "source": [
    "Этот объект позволяет задавать тот тип данных, который хранится в словаре по умолчанию (в нашем случае это должен быть список). Это бывает удобно в том случае, если приходится заполнять одну и ту же структуру данных, экземпляр которой должен храниться по каждому ключу в словаре."
   ]
  },
  {
   "cell_type": "code",
   "execution_count": 433,
   "metadata": {},
   "outputs": [],
   "source": [
    "student = (\"Ivanov\", 1)\n",
    "students: list[tuple[str, int]] = [\n",
    "    (\"Ivanov\", 1),\n",
    "    (\"Smirnov\", 4),\n",
    "    (\"Petrov\", 3),\n",
    "    (\"Kuznetsova\", 1),\n",
    "    (\"Nikitina\", 2),\n",
    "    (\"Markov\", 3),\n",
    "    (\"Pavlov\", 2),\n",
    "]"
   ]
  },
  {
   "cell_type": "code",
   "execution_count": 434,
   "metadata": {},
   "outputs": [
    {
     "name": "stdout",
     "output_type": "stream",
     "text": [
      "{1: ['Ivanov', 'Kuznetsova'], 4: ['Smirnov'], 3: ['Petrov', 'Markov'], 2: ['Nikitina', 'Pavlov']}\n"
     ]
    }
   ],
   "source": [
    "groups = dict()\n",
    "\n",
    "for student, group in students:\n",
    "    if group not in groups:\n",
    "        groups[group] = list()\n",
    "    groups[group].append(student)\n",
    "\n",
    "print(groups)"
   ]
  },
  {
   "cell_type": "code",
   "execution_count": 435,
   "metadata": {},
   "outputs": [],
   "source": [
    "groups = dict()\n",
    "\n",
    "# for student, group in students:\n",
    "#     groups[group].append(student)\n",
    "# ---------------------------------------------------------------------------\n",
    "# KeyError                                  Traceback (most recent call last)\n",
    "# Cell In[187], line 4\n",
    "#       1 groups = dict()\n",
    "#       3 for student, group in students:\n",
    "# ----> 4     groups[group].append(student)\n",
    "\n",
    "# KeyError: 1"
   ]
  },
  {
   "cell_type": "code",
   "execution_count": 436,
   "metadata": {},
   "outputs": [
    {
     "name": "stdout",
     "output_type": "stream",
     "text": [
      "defaultdict(<class 'list'>, {1: ['Ivanov', 'Kuznetsova'], 4: ['Smirnov'], 3: ['Petrov', 'Markov'], 2: ['Nikitina', 'Pavlov']})\n"
     ]
    }
   ],
   "source": [
    "from collections import defaultdict\n",
    "\n",
    "groups: defaultdict[int, list[str]] = defaultdict(list)\n",
    "\n",
    "for student, group in students:\n",
    "    groups[group].append(student)\n",
    "\n",
    "print(groups)"
   ]
  },
  {
   "cell_type": "code",
   "execution_count": 437,
   "metadata": {},
   "outputs": [
    {
     "name": "stdout",
     "output_type": "stream",
     "text": [
      "['Petrov', 'Markov']\n"
     ]
    }
   ],
   "source": [
    "print(groups[3])"
   ]
  },
  {
   "cell_type": "code",
   "execution_count": 438,
   "metadata": {},
   "outputs": [
    {
     "name": "stdout",
     "output_type": "stream",
     "text": [
      "[]\n"
     ]
    }
   ],
   "source": [
    "print(groups[5])"
   ]
  },
  {
   "cell_type": "code",
   "execution_count": 439,
   "metadata": {},
   "outputs": [
    {
     "name": "stdout",
     "output_type": "stream",
     "text": [
      "defaultdict(<class 'list'>, {1: ['Ivanov', 'Kuznetsova'], 4: ['Smirnov'], 3: ['Petrov', 'Markov'], 2: ['Nikitina', 'Pavlov'], 5: []})\n"
     ]
    }
   ],
   "source": [
    "print(groups)"
   ]
  },
  {
   "cell_type": "code",
   "execution_count": 440,
   "metadata": {},
   "outputs": [
    {
     "name": "stdout",
     "output_type": "stream",
     "text": [
      "<class 'dict'>\n",
      "<class 'collections.defaultdict'>\n",
      "True\n",
      "True\n",
      "{}\n",
      "defaultdict(None, {})\n"
     ]
    }
   ],
   "source": [
    "dict_object = dict()\n",
    "defaultdict_object = defaultdict()\n",
    "\n",
    "print(type(dict_object))\n",
    "print(type(defaultdict_object))\n",
    "\n",
    "print(type(dict_object) == dict)\n",
    "print(type(defaultdict_object) == defaultdict)\n",
    "\n",
    "print(dict_object)\n",
    "print(defaultdict_object)"
   ]
  },
  {
   "cell_type": "markdown",
   "metadata": {},
   "source": [
    "## OrderedDict"
   ]
  },
  {
   "cell_type": "markdown",
   "metadata": {},
   "source": [
    "### Попросту выдает словарь с элементами, расположенными в изначально переданном порядке"
   ]
  },
  {
   "cell_type": "markdown",
   "metadata": {},
   "source": [
    "### С версии python 3.7 обычный dict обладает теми же свойствами"
   ]
  },
  {
   "cell_type": "code",
   "execution_count": 441,
   "metadata": {},
   "outputs": [
    {
     "name": "stdout",
     "output_type": "stream",
     "text": [
      "{'Ivanov': 19, 'Smirnov': 42, 'Petrov': 35, 'Kuznetsova': 11}\n"
     ]
    }
   ],
   "source": [
    "data = [(\"Ivanov\", 19), (\"Smirnov\", 42), (\"Petrov\", 35), (\"Kuznetsova\", 11)]\n",
    "\n",
    "client_ages = dict(data)\n",
    "print(client_ages)"
   ]
  },
  {
   "cell_type": "code",
   "execution_count": 442,
   "metadata": {},
   "outputs": [
    {
     "name": "stdout",
     "output_type": "stream",
     "text": [
      "OrderedDict({'Ivanov': 19, 'Smirnov': 42, 'Petrov': 35, 'Kuznetsova': 11})\n"
     ]
    }
   ],
   "source": [
    "from collections import OrderedDict\n",
    "\n",
    "ordered_client_ages = OrderedDict(data)\n",
    "print(ordered_client_ages)"
   ]
  },
  {
   "cell_type": "markdown",
   "metadata": {},
   "source": [
    "## Deque"
   ]
  },
  {
   "cell_type": "code",
   "execution_count": 443,
   "metadata": {},
   "outputs": [
    {
     "name": "stdout",
     "output_type": "stream",
     "text": [
      "deque([])\n"
     ]
    }
   ],
   "source": [
    "from collections import deque\n",
    "\n",
    "dq = deque()\n",
    "print(dq)"
   ]
  },
  {
   "cell_type": "code",
   "execution_count": 444,
   "metadata": {},
   "outputs": [
    {
     "name": "stdout",
     "output_type": "stream",
     "text": [
      "deque([], maxlen=3)\n"
     ]
    }
   ],
   "source": [
    "dq_max3 = deque(maxlen=3)\n",
    "print(dq_max3)"
   ]
  },
  {
   "cell_type": "code",
   "execution_count": 445,
   "metadata": {},
   "outputs": [
    {
     "name": "stdout",
     "output_type": "stream",
     "text": [
      "deque(['Ivanov', 'Smirnov', 'Petrov', 'Kuznetsova'])\n"
     ]
    }
   ],
   "source": [
    "clients = deque()\n",
    "\n",
    "clients.append(\"Ivanov\")\n",
    "clients.append(\"Smirnov\")\n",
    "clients.append(\"Petrov\")\n",
    "clients.append(\"Kuznetsova\")\n",
    "\n",
    "print(clients)"
   ]
  },
  {
   "cell_type": "code",
   "execution_count": 446,
   "metadata": {},
   "outputs": [
    {
     "name": "stdout",
     "output_type": "stream",
     "text": [
      "Petrov\n"
     ]
    }
   ],
   "source": [
    "print(clients[2])"
   ]
  },
  {
   "cell_type": "markdown",
   "metadata": {},
   "source": [
    "Чтобы получить следующего клиента по очереди, есть метод popleft. При этом очередь очищается."
   ]
  },
  {
   "cell_type": "code",
   "execution_count": 447,
   "metadata": {},
   "outputs": [
    {
     "name": "stdout",
     "output_type": "stream",
     "text": [
      "Ivanov\n",
      "Smirnov\n",
      "deque(['Petrov', 'Kuznetsova'])\n"
     ]
    }
   ],
   "source": [
    "first_client = clients.popleft()\n",
    "second_client = clients.popleft()\n",
    "print(first_client)\n",
    "print(second_client)\n",
    "print(clients)"
   ]
  },
  {
   "cell_type": "markdown",
   "metadata": {},
   "source": [
    "Для добавления в начало очереди используется метод appendleft:"
   ]
  },
  {
   "cell_type": "code",
   "execution_count": 448,
   "metadata": {},
   "outputs": [
    {
     "name": "stdout",
     "output_type": "stream",
     "text": [
      "deque(['Vip', 'Petrov', 'Kuznetsova'])\n"
     ]
    }
   ],
   "source": [
    "clients.appendleft(\"Vip\")\n",
    "print(clients)"
   ]
  },
  {
   "cell_type": "markdown",
   "metadata": {},
   "source": [
    "Удалить элемент справа поможет метод pop:"
   ]
  },
  {
   "cell_type": "code",
   "execution_count": 449,
   "metadata": {},
   "outputs": [
    {
     "name": "stdout",
     "output_type": "stream",
     "text": [
      "Kuznetsova left the queue\n",
      "deque(['Vip', 'Petrov'])\n"
     ]
    }
   ],
   "source": [
    "tired_client = clients.pop()\n",
    "print(tired_client, \"left the queue\")\n",
    "print(clients)"
   ]
  },
  {
   "cell_type": "markdown",
   "metadata": {},
   "source": [
    "При создании deque можно передавать целый массив, как и при расширении:"
   ]
  },
  {
   "cell_type": "code",
   "execution_count": 450,
   "metadata": {},
   "outputs": [
    {
     "name": "stdout",
     "output_type": "stream",
     "text": [
      "deque([1, 2, 3, 4, 5])\n",
      "deque([1, 2, 3, 4, 5, 11, 12, 13, 14, 15, 16, 17])\n"
     ]
    }
   ],
   "source": [
    "shop = deque([1, 2, 3, 4, 5])\n",
    "print(shop)\n",
    "# deque([1, 2, 3, 4, 5])\n",
    "\n",
    "shop.extend([11, 12, 13, 14, 15, 16, 17])\n",
    "print(shop)\n",
    "# deque([1, 2, 3, 4, 5, 11, 12, 13, 14, 15, 16, 17])"
   ]
  },
  {
   "cell_type": "markdown",
   "metadata": {},
   "source": [
    "Также можно добавить в обратном порядке с левой стороны методом extendleft:"
   ]
  },
  {
   "cell_type": "code",
   "execution_count": 451,
   "metadata": {},
   "outputs": [
    {
     "name": "stdout",
     "output_type": "stream",
     "text": [
      "deque([17, 16, 15, 14, 13, 12, 11, 1, 2, 3, 4, 5])\n"
     ]
    }
   ],
   "source": [
    "shop = deque([1, 2, 3, 4, 5])\n",
    "shop.extendleft([11, 12, 13, 14, 15, 16, 17])\n",
    "print(shop)\n",
    "# deque([17, 16, 15, 14, 13, 12, 11, 1, 2, 3, 4, 5])"
   ]
  },
  {
   "cell_type": "code",
   "execution_count": 452,
   "metadata": {},
   "outputs": [
    {
     "name": "stdout",
     "output_type": "stream",
     "text": [
      "deque([], maxlen=3)\n",
      "deque([5, 7, 9], maxlen=3)\n"
     ]
    }
   ],
   "source": [
    "limited = deque(maxlen=3)\n",
    "print(limited)\n",
    "\n",
    "limited_from_list = deque([1, 3, 5, 7, 9], maxlen=3)\n",
    "print(limited_from_list)"
   ]
  },
  {
   "cell_type": "code",
   "execution_count": 453,
   "metadata": {},
   "outputs": [
    {
     "name": "stdout",
     "output_type": "stream",
     "text": [
      "deque([1, 2, 3], maxlen=3)\n",
      "deque([2, 3, 8], maxlen=3)\n"
     ]
    }
   ],
   "source": [
    "limited.extend([1, 2, 3])\n",
    "print(limited)\n",
    "\n",
    "limited.append(8)\n",
    "# None\n",
    "print(limited)\n",
    "# deque([2, 3, 8])"
   ]
  },
  {
   "cell_type": "code",
   "execution_count": 454,
   "metadata": {},
   "outputs": [],
   "source": [
    "temps = [\n",
    "    22.3,\n",
    "    24.2,\n",
    "    27.3,\n",
    "    26.4,\n",
    "    23.4,\n",
    "    26.1,\n",
    "    24.4,\n",
    "    25.6,\n",
    "    27.7,\n",
    "    19.7,\n",
    "    22.1,\n",
    "    25.2,\n",
    "    24.2,\n",
    "    22.3,\n",
    "    25.2,\n",
    "    24.2,\n",
    "    24.4,\n",
    "    26.1,\n",
    "    23.4,\n",
    "    25.6,\n",
    "    27.7,\n",
    "    19.7,\n",
    "    22.1,\n",
    "    25.2,\n",
    "    24.2,\n",
    "    22.3,\n",
    "    25.2,\n",
    "    24.2,\n",
    "    24.4,\n",
    "    26.1,\n",
    "    23.4,\n",
    "    25.6,\n",
    "    27.7,\n",
    "    19.7,\n",
    "    22.1,\n",
    "    25.2,\n",
    "    24.2,\n",
    "    22.3,\n",
    "    25.2,\n",
    "    24.2,\n",
    "    24.4,\n",
    "    26.1,\n",
    "    23.4,\n",
    "    25.6,\n",
    "    27.7,\n",
    "    19.7,\n",
    "]"
   ]
  },
  {
   "cell_type": "code",
   "execution_count": 455,
   "metadata": {},
   "outputs": [
    {
     "name": "stdout",
     "output_type": "stream",
     "text": [
      "24.87; 25.34; 25.84; 24.76; 24.14; 24.4; 24.13; 23.83; 23.77; 23.27; 23.94; 24.51; 24.26; 24.46; 25.23; 24.44; 24.14; 24.26; 23.99; 23.83; 23.77; 23.27; 23.94; 24.51; 24.26; 24.46; 25.23; 24.44; 24.14; 24.26; 23.99; 23.83; 23.77; 23.27; 23.94; 24.51; 24.26; 24.46; 25.23; 24.44;  \n"
     ]
    }
   ],
   "source": [
    "days = deque(maxlen=7)\n",
    "\n",
    "for temp in temps:\n",
    "    days.append(temp)\n",
    "    if len(days) == days.maxlen:\n",
    "        print(round(sum(days) / len(days), 2), end=\"; \")\n",
    "\n",
    "print(\" \")"
   ]
  },
  {
   "cell_type": "markdown",
   "metadata": {},
   "source": [
    "### Прочие методы deque:"
   ]
  },
  {
   "cell_type": "markdown",
   "metadata": {},
   "source": [
    "Reverse - разворот в обратную сторону"
   ]
  },
  {
   "cell_type": "code",
   "execution_count": 456,
   "metadata": {},
   "outputs": [
    {
     "name": "stdout",
     "output_type": "stream",
     "text": [
      "deque([1, 2, 3, 4, 5])\n",
      "deque([5, 4, 3, 2, 1])\n"
     ]
    }
   ],
   "source": [
    "dq = deque([1, 2, 3, 4, 5])\n",
    "print(dq)\n",
    "\n",
    "dq.reverse()\n",
    "print(dq)"
   ]
  },
  {
   "cell_type": "markdown",
   "metadata": {},
   "source": [
    "Rotate - перенос конкретного количества элементов из конца списка в начало"
   ]
  },
  {
   "cell_type": "code",
   "execution_count": 457,
   "metadata": {},
   "outputs": [
    {
     "name": "stdout",
     "output_type": "stream",
     "text": [
      "deque([1, 2, 3, 4, 5])\n",
      "deque([4, 5, 1, 2, 3])\n",
      "deque([1, 2, 3, 4, 5])\n"
     ]
    }
   ],
   "source": [
    "dq = deque([1, 2, 3, 4, 5])\n",
    "print(dq)\n",
    "\n",
    "dq.rotate(2)\n",
    "print(dq)\n",
    "\n",
    "dq.rotate(-2)\n",
    "print(dq)"
   ]
  },
  {
   "cell_type": "markdown",
   "metadata": {},
   "source": [
    "Index - получить первый индекс элемента"
   ]
  },
  {
   "cell_type": "code",
   "execution_count": 458,
   "metadata": {},
   "outputs": [],
   "source": [
    "dq = deque([1, 2, 4, 2, 3, 1, 5, 4, 4, 4, 4, 4, 3])"
   ]
  },
  {
   "cell_type": "code",
   "execution_count": 459,
   "metadata": {},
   "outputs": [
    {
     "name": "stdout",
     "output_type": "stream",
     "text": [
      "2\n"
     ]
    }
   ],
   "source": [
    "print(dq.index(4))\n",
    "# print(dq.index(25))\n",
    "# ---------------------------------------------------------------------------\n",
    "# ValueError                                Traceback (most recent call last)\n",
    "# Cell In[113], line 3\n",
    "#       1 dq = deque([1, 2, 4, 2, 3, 1, 5, 4, 4, 4, 4, 4, 3])\n",
    "#       2 print(dq.index(4))\n",
    "# ----> 3 print(dq.index(25))\n",
    "\n",
    "# ValueError: 25 is not in deque"
   ]
  },
  {
   "cell_type": "markdown",
   "metadata": {},
   "source": [
    "Count - подсчитать количество вхождений какого-либо элемента"
   ]
  },
  {
   "cell_type": "code",
   "execution_count": 460,
   "metadata": {},
   "outputs": [
    {
     "name": "stdout",
     "output_type": "stream",
     "text": [
      "6\n",
      "0\n"
     ]
    }
   ],
   "source": [
    "print(dq.count(4))\n",
    "print(dq.count(25))"
   ]
  },
  {
   "cell_type": "markdown",
   "metadata": {},
   "source": [
    "Clear - очистка всей очереди"
   ]
  },
  {
   "cell_type": "code",
   "execution_count": 461,
   "metadata": {},
   "outputs": [
    {
     "name": "stdout",
     "output_type": "stream",
     "text": [
      "deque([1, 2, 4, 2, 3, 1, 5, 4, 4, 4, 4, 4, 3])\n",
      "deque([])\n"
     ]
    }
   ],
   "source": [
    "print(dq)\n",
    "dq.clear()\n",
    "print(dq)"
   ]
  }
 ],
 "metadata": {
  "kernelspec": {
   "display_name": "Python 3",
   "language": "python",
   "name": "python3"
  },
  "language_info": {
   "codemirror_mode": {
    "name": "ipython",
    "version": 3
   },
   "file_extension": ".py",
   "mimetype": "text/x-python",
   "name": "python",
   "nbconvert_exporter": "python",
   "pygments_lexer": "ipython3",
   "version": "3.12.0"
  }
 },
 "nbformat": 4,
 "nbformat_minor": 2
}
