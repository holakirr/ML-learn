{
 "cells": [
  {
   "cell_type": "markdown",
   "metadata": {},
   "source": [
    "# Collections"
   ]
  },
  {
   "cell_type": "markdown",
   "metadata": {},
   "source": [
    "## Counter"
   ]
  },
  {
   "cell_type": "code",
   "execution_count": 122,
   "metadata": {},
   "outputs": [],
   "source": [
    "from collections import Counter\n",
    "\n",
    "c = Counter()"
   ]
  },
  {
   "cell_type": "code",
   "execution_count": 123,
   "metadata": {},
   "outputs": [
    {
     "name": "stdout",
     "output_type": "stream",
     "text": [
      "Counter({'red': 1})\n"
     ]
    }
   ],
   "source": [
    "c[\"red\"] += 1\n",
    "\n",
    "print(c)"
   ]
  },
  {
   "cell_type": "markdown",
   "metadata": {},
   "source": [
    "С обычным словарем это не сработает:"
   ]
  },
  {
   "cell_type": "code",
   "execution_count": 124,
   "metadata": {},
   "outputs": [],
   "source": [
    "d = dict()\n",
    "# d['red'] += 1\n",
    "# KeyError                                  Traceback (most recent call last)\n",
    "# Cell In[42], line 2\n",
    "#       1 d = dict()\n",
    "# ----> 2 d['red'] += 1\n",
    "\n",
    "# KeyError: 'red'"
   ]
  },
  {
   "cell_type": "code",
   "execution_count": 125,
   "metadata": {},
   "outputs": [
    {
     "name": "stdout",
     "output_type": "stream",
     "text": [
      "{'red': 1}\n"
     ]
    }
   ],
   "source": [
    "d[\"red\"] = 0\n",
    "d[\"red\"] += 1\n",
    "print(d)"
   ]
  },
  {
   "cell_type": "markdown",
   "metadata": {},
   "source": [
    "Список цветов машин"
   ]
  },
  {
   "cell_type": "code",
   "execution_count": 126,
   "metadata": {},
   "outputs": [],
   "source": [
    "cars = [\"blue\", \"red\", \"blue\", \"red\", \"green\", \"red\", \"black\", \"black\"]"
   ]
  },
  {
   "cell_type": "code",
   "execution_count": 127,
   "metadata": {},
   "outputs": [
    {
     "name": "stdout",
     "output_type": "stream",
     "text": [
      "Counter({'red': 3, 'blue': 2, 'black': 2, 'green': 1})\n"
     ]
    }
   ],
   "source": [
    "c = Counter()\n",
    "\n",
    "for car in cars:\n",
    "    c[car] += 1\n",
    "\n",
    "print(c)"
   ]
  },
  {
   "cell_type": "markdown",
   "metadata": {},
   "source": [
    "Также можно посчитать другим способом:"
   ]
  },
  {
   "cell_type": "code",
   "execution_count": 128,
   "metadata": {},
   "outputs": [
    {
     "name": "stdout",
     "output_type": "stream",
     "text": [
      "Counter({'red': 3, 'blue': 2, 'black': 2, 'green': 1})\n"
     ]
    }
   ],
   "source": [
    "c = Counter(cars)\n",
    "print(c)"
   ]
  },
  {
   "cell_type": "code",
   "execution_count": 129,
   "metadata": {},
   "outputs": [
    {
     "name": "stdout",
     "output_type": "stream",
     "text": [
      "3\n"
     ]
    }
   ],
   "source": [
    "print(c[\"red\"])"
   ]
  },
  {
   "cell_type": "code",
   "execution_count": 130,
   "metadata": {},
   "outputs": [
    {
     "name": "stdout",
     "output_type": "stream",
     "text": [
      "0\n"
     ]
    }
   ],
   "source": [
    "print(c[\"yellow\"])"
   ]
  },
  {
   "cell_type": "code",
   "execution_count": 131,
   "metadata": {},
   "outputs": [
    {
     "name": "stdout",
     "output_type": "stream",
     "text": [
      "dict_values([2, 3, 1, 2])\n",
      "8\n"
     ]
    }
   ],
   "source": [
    "print(c.values())\n",
    "print(sum(c.values()))"
   ]
  },
  {
   "cell_type": "code",
   "execution_count": 132,
   "metadata": {},
   "outputs": [],
   "source": [
    "cars_msc = [\n",
    "    \"blue\",\n",
    "    \"red\",\n",
    "    \"blue\",\n",
    "    \"red\",\n",
    "    \"green\",\n",
    "    \"red\",\n",
    "    \"black\",\n",
    "    \"black\",\n",
    "    \"yellow\",\n",
    "    \"yellow\",\n",
    "    \"yellow\",\n",
    "    \"yellow\",\n",
    "]\n",
    "cars_spb = [\n",
    "    \"blue\",\n",
    "    \"red\",\n",
    "    \"blue\",\n",
    "    \"red\",\n",
    "    \"green\",\n",
    "    \"red\",\n",
    "    \"black\",\n",
    "    \"black\",\n",
    "    \"green\",\n",
    "    \"green\",\n",
    "    \"green\",\n",
    "    \"green\",\n",
    "]"
   ]
  },
  {
   "cell_type": "code",
   "execution_count": 133,
   "metadata": {},
   "outputs": [
    {
     "name": "stdout",
     "output_type": "stream",
     "text": [
      "Counter({'yellow': 4, 'red': 3, 'blue': 2, 'black': 2, 'green': 1})\n",
      "Counter({'green': 5, 'red': 3, 'blue': 2, 'black': 2})\n"
     ]
    }
   ],
   "source": [
    "counter_msc = Counter(cars_msc)\n",
    "counter_spb = Counter(cars_spb)\n",
    "print(counter_msc)\n",
    "print(counter_spb)"
   ]
  },
  {
   "cell_type": "code",
   "execution_count": 134,
   "metadata": {},
   "outputs": [
    {
     "name": "stdout",
     "output_type": "stream",
     "text": [
      "Counter({'red': 6, 'green': 6, 'blue': 4, 'black': 4, 'yellow': 4})\n"
     ]
    }
   ],
   "source": [
    "print(counter_msc + counter_spb)"
   ]
  },
  {
   "cell_type": "code",
   "execution_count": 135,
   "metadata": {},
   "outputs": [
    {
     "name": "stdout",
     "output_type": "stream",
     "text": [
      "Counter({'yellow': 4})\n"
     ]
    }
   ],
   "source": [
    "print(counter_msc - counter_spb)"
   ]
  },
  {
   "cell_type": "code",
   "execution_count": 136,
   "metadata": {},
   "outputs": [
    {
     "name": "stdout",
     "output_type": "stream",
     "text": [
      "Counter({'yellow': 4, 'blue': 0, 'red': 0, 'black': 0, 'green': -4})\n"
     ]
    }
   ],
   "source": [
    "counter_msc.subtract(counter_spb)\n",
    "print(counter_msc)"
   ]
  },
  {
   "cell_type": "code",
   "execution_count": 137,
   "metadata": {},
   "outputs": [
    {
     "name": "stdout",
     "output_type": "stream",
     "text": [
      "blue blue red red red green black black yellow yellow yellow yellow\n"
     ]
    }
   ],
   "source": [
    "counter_msc = Counter(cars_msc)\n",
    "print(*counter_msc.elements())"
   ]
  },
  {
   "cell_type": "code",
   "execution_count": 138,
   "metadata": {},
   "outputs": [
    {
     "name": "stdout",
     "output_type": "stream",
     "text": [
      "['blue', 'red', 'green', 'black', 'yellow']\n"
     ]
    }
   ],
   "source": [
    "print(list(counter_msc))"
   ]
  },
  {
   "cell_type": "code",
   "execution_count": 139,
   "metadata": {},
   "outputs": [
    {
     "name": "stdout",
     "output_type": "stream",
     "text": [
      "{'blue': 2, 'red': 3, 'green': 1, 'black': 2, 'yellow': 4}\n"
     ]
    }
   ],
   "source": [
    "print(dict(counter_msc))"
   ]
  },
  {
   "cell_type": "code",
   "execution_count": 140,
   "metadata": {},
   "outputs": [
    {
     "data": {
      "text/plain": [
       "[('yellow', 4), ('red', 3), ('blue', 2), ('black', 2), ('green', 1)]"
      ]
     },
     "execution_count": 140,
     "metadata": {},
     "output_type": "execute_result"
    }
   ],
   "source": [
    "counter_msc.most_common()"
   ]
  },
  {
   "cell_type": "code",
   "execution_count": 141,
   "metadata": {},
   "outputs": [
    {
     "data": {
      "text/plain": [
       "[('yellow', 4), ('red', 3)]"
      ]
     },
     "execution_count": 141,
     "metadata": {},
     "output_type": "execute_result"
    }
   ],
   "source": [
    "counter_msc.most_common(2)"
   ]
  },
  {
   "cell_type": "code",
   "execution_count": 142,
   "metadata": {},
   "outputs": [
    {
     "name": "stdout",
     "output_type": "stream",
     "text": [
      "Counter()\n"
     ]
    }
   ],
   "source": [
    "counter_msc.clear()\n",
    "print(counter_msc)"
   ]
  },
  {
   "cell_type": "markdown",
   "metadata": {},
   "source": [
    "## Defaultdict"
   ]
  }
 ],
 "metadata": {
  "kernelspec": {
   "display_name": "Python 3",
   "language": "python",
   "name": "python3"
  },
  "language_info": {
   "codemirror_mode": {
    "name": "ipython",
    "version": 3
   },
   "file_extension": ".py",
   "mimetype": "text/x-python",
   "name": "python",
   "nbconvert_exporter": "python",
   "pygments_lexer": "ipython3",
   "version": "3.12.0"
  }
 },
 "nbformat": 4,
 "nbformat_minor": 2
}
