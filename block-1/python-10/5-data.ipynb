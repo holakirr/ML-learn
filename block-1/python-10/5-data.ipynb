{
 "cells": [
  {
   "cell_type": "code",
   "execution_count": 14,
   "metadata": {},
   "outputs": [],
   "source": [
    "import pandas as pd\n",
    "\n",
    "melb_data = pd.read_csv(\"data/melb_data.csv\", sep=\",\")"
   ]
  },
  {
   "cell_type": "markdown",
   "metadata": {},
   "source": [
    "# Знакомимся с данными: недвижимость"
   ]
  },
  {
   "cell_type": "markdown",
   "metadata": {},
   "source": [
    "Данные представляют собой таблицу, в которой содержится 23 столбца:\n",
    "\n",
    "- index — номер строки\n",
    "- Suburb — наименование пригорода\n",
    "- Address — адрес\n",
    "- Rooms — количество комнат в помещении\n",
    "- Type — тип здания (h — дом, коттедж, вилла, терраса; u — блочный, дуплексный дом; t — таунхаус)\n",
    "- Price — цена помещения\n",
    "- Method — метод продажи\n",
    "- SellerG — риэлторская компания\n",
    "- Date — дата продажи (в формате день/месяц/год)\n",
    "- Distance — расстояния до объекта от центра Мельбурна\n",
    "- Postcode — почтовый индекс\n",
    "- Bedroom — количество спален\n",
    "- Bathroom — количество ванных комнат\n",
    "- Car — количество парковочных мест\n",
    "- Landsize — площадь прилегающей территории\n",
    "- BuildingArea — площадь здания\n",
    "- YearBuilt — год постройки\n",
    "- CouncilArea — региональное управление\n",
    "- Lattitude — географическая широта\n",
    "- Longitude — географическая долгота\n",
    "- Regionname — наименование района Мельбурна\n",
    "- Propertycount — количество объектов недвижимости в районе\n",
    "- Coordinates — широта и долгота, объединённые в кортеж\n"
   ]
  },
  {
   "cell_type": "code",
   "execution_count": 15,
   "metadata": {},
   "outputs": [
    {
     "data": {
      "text/plain": [
       "1310000.0"
      ]
     },
     "execution_count": 15,
     "metadata": {},
     "output_type": "execute_result"
    }
   ],
   "source": [
    "melb_data.Price[15]"
   ]
  },
  {
   "cell_type": "code",
   "execution_count": 16,
   "metadata": {},
   "outputs": [
    {
     "data": {
      "text/plain": [
       "'10/09/2016'"
      ]
     },
     "execution_count": 16,
     "metadata": {},
     "output_type": "execute_result"
    }
   ],
   "source": [
    "melb_data.Date[90]"
   ]
  },
  {
   "cell_type": "code",
   "execution_count": null,
   "metadata": {},
   "outputs": [],
   "source": []
  },
  {
   "cell_type": "code",
   "execution_count": 17,
   "metadata": {},
   "outputs": [
    {
     "data": {
      "text/plain": [
       "3"
      ]
     },
     "execution_count": 17,
     "metadata": {},
     "output_type": "execute_result"
    }
   ],
   "source": [
    "round(melb_data.Landsize[3521]/melb_data.Landsize[1690])"
   ]
  }
 ],
 "metadata": {
  "kernelspec": {
   "display_name": "Python 3",
   "language": "python",
   "name": "python3"
  },
  "language_info": {
   "codemirror_mode": {
    "name": "ipython",
    "version": 3
   },
   "file_extension": ".py",
   "mimetype": "text/x-python",
   "name": "python",
   "nbconvert_exporter": "python",
   "pygments_lexer": "ipython3",
   "version": "3.12.2"
  }
 },
 "nbformat": 4,
 "nbformat_minor": 2
}
