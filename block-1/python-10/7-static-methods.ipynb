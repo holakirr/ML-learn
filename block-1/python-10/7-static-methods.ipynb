{
	"cells": [
		{
			"cell_type": "code",
			"execution_count": 205,
			"metadata": {},
			"outputs": [],
			"source": [
				"import pandas as pd\n",
				"\n",
				"melb_data = pd.read_csv(\"data/melb_data.csv\", sep=\",\")"
			]
		},
		{
			"cell_type": "markdown",
			"metadata": {},
			"source": [
				"# Статистические методы\n",
				"\n",
				"## АГРЕГИРУЮЩИЕ МЕТОДЫ\n",
				"\n",
				"Агрегирующим в Pandas называется метод, который для каждого столбца возвращает только одно значение — показатель (например, вычисление медианы, максимума, среднего и так далее).\n"
			]
		},
		{
			"cell_type": "markdown",
			"metadata": {
				"slideshow": {
					"slide_type": "subslide"
				}
			},
			"source": [
				"- .count()\t\t-\tКоличество непустых значений\n",
				"- .mean()\t\t-\tСреднее значение\n",
				"- .min()\t\t-\tМинимальное значение\n",
				"- .max()\t\t-\tМаксимальное значение\n",
				"- .var()\t\t-\tДисперсия\n",
				"- .std()\t\t-\tСтандартное отклонение\n",
				"- .sum()\t\t-\tСумма\n",
				"- .quantile(x)\t-\tКвантиль уровня x\n",
				"- .nunique()\t-\tЧисло уникальных значений"
			]
		},
		{
			"cell_type": "code",
			"execution_count": 206,
			"metadata": {},
			"outputs": [
				{
					"name": "stdout",
					"output_type": "stream",
					"text": [
						"1075684.079455081\n"
					]
				}
			],
			"source": [
				"print(melb_data['Price'].mean())"
			]
		},
		{
			"cell_type": "code",
			"execution_count": 207,
			"metadata": {},
			"outputs": [
				{
					"name": "stdout",
					"output_type": "stream",
					"text": [
						"10.0\n"
					]
				}
			],
			"source": [
				"print(melb_data['Car'].max())"
			]
		},
		{
			"cell_type": "code",
			"execution_count": 208,
			"metadata": {},
			"outputs": [
				{
					"name": "stdout",
					"output_type": "stream",
					"text": [
						"Total income of real estate agencies: 1752934775.88\n"
					]
				}
			],
			"source": [
				"rate = 0.12\n",
				"income = melb_data['Price'].sum() * rate\n",
				"print('Total income of real estate agencies:', round(income, 2))"
			]
		},
		{
			"cell_type": "code",
			"execution_count": 209,
			"metadata": {},
			"outputs": [
				{
					"name": "stdout",
					"output_type": "stream",
					"text": [
						"0.21205713983546193\n"
					]
				}
			],
			"source": [
				"landsize_median = melb_data['Landsize'].median() \n",
				"landsize_mean =  melb_data['Landsize'].mean()\n",
				"print(abs(landsize_median - landsize_mean)/landsize_mean)"
			]
		},
		{
			"cell_type": "markdown",
			"metadata": {},
			"source": [
				"## МОДАЛЬНОЕ ЗНАЧЕНИЕ\n",
				"\n",
				"Отдельный интерес представляет статический показатель моды — самого распространённого значения в столбце. Он вычисляется с помощью метода mode()\n",
				"\n",
				"Модальных значений может быть несколько, то есть несколько значений могут встречаться одинаковое количество раз. Поэтому метод mode(), в отличие от агрегирующих методов, возвращает не одно число, а серию.\n",
				"\n",
				"Вычислим, какое число комнат чаще всего представлено на рынке недвижимости:"
			]
		},
		{
			"cell_type": "code",
			"execution_count": 210,
			"metadata": {},
			"outputs": [
				{
					"name": "stdout",
					"output_type": "stream",
					"text": [
						"0    3\n",
						"Name: Rooms, dtype: int64\n"
					]
				}
			],
			"source": [
				"print(melb_data['Rooms'].mode())"
			]
		},
		{
			"cell_type": "markdown",
			"metadata": {},
			"source": [
				"<b>Примечание.</b> Метод mode() может быть использован не только с числовыми столбцами, но и со столбцами типа object. Так, например, с помощью следующего кода можно найти наиболее распространённое название района:"
			]
		},
		{
			"cell_type": "code",
			"execution_count": 211,
			"metadata": {},
			"outputs": [
				{
					"data": {
						"text/plain": [
							"0    Southern Metropolitan\n",
							"Name: Regionname, dtype: object"
						]
					},
					"execution_count": 211,
					"metadata": {},
					"output_type": "execute_result"
				}
			],
			"source": [
				"melb_data['Regionname'].mode()"
			]
		},
		{
			"cell_type": "markdown",
			"metadata": {},
			"source": [
				"Мы рассмотрели основные статистические методы, которые позволяют получить информацию о статистических параметрах столбцов таблицы.\n",
				"\n",
				"Знание таких параметров позволяет делать важные выводы. Например, уже сейчас мы можем сказать, что средняя цена объектов недвижимости в Мельбурне чуть больше 1 млн, что даёт нам базовое представление о рынке недвижимости в этом городе.\n",
				"\n",
				"В дальнейшем мы научимся делать более обоснованные и интересные выводы по статистическим параметрам, а пока предлагаем вам закрепить свои знания, выполнив несколько заданий ↓\n"
			]
		},
		{
			"cell_type": "code",
			"execution_count": 212,
			"metadata": {},
			"outputs": [
				{
					"data": {
						"text/plain": [
							"3990.6692411090316"
						]
					},
					"execution_count": 212,
					"metadata": {},
					"output_type": "execute_result"
				}
			],
			"source": [
				"melb_data['Landsize'].std()"
			]
		},
		{
			"cell_type": "code",
			"execution_count": 213,
			"metadata": {},
			"outputs": [
				{
					"data": {
						"text/plain": [
							"639310.724296018"
						]
					},
					"execution_count": 213,
					"metadata": {},
					"output_type": "execute_result"
				}
			],
			"source": [
				"melb_data['Price'].std()"
			]
		},
		{
			"cell_type": "code",
			"execution_count": 214,
			"metadata": {},
			"outputs": [],
			"source": [
				"# melb_data['Date'].std()\n",
				"# Will throw an error because the Date column is not a numeric column"
			]
		},
		{
			"cell_type": "code",
			"execution_count": 215,
			"metadata": {},
			"outputs": [],
			"source": [
				"# melb_data['Type'].std()\n",
				"# Will throw an error because the Type column is not a numeric column"
			]
		},
		{
			"cell_type": "code",
			"execution_count": 216,
			"metadata": {},
			"outputs": [
				{
					"data": {
						"text/plain": [
							"21650.0"
						]
					},
					"execution_count": 216,
					"metadata": {},
					"output_type": "execute_result"
				}
			],
			"source": [
				"# Чему равно максимальное количество домов на продажу в районе (Propertycount)?\n",
				"melb_data['Propertycount'].max()"
			]
		},
		{
			"cell_type": "code",
			"execution_count": 217,
			"metadata": {},
			"outputs": [
				{
					"data": {
						"text/plain": [
							"5.868724943071711"
						]
					},
					"execution_count": 217,
					"metadata": {},
					"output_type": "execute_result"
				}
			],
			"source": [
				"# Чему равно стандартное отклонение (разброс) расстояния от центра города до объекта недвижимости?\n",
				"melb_data['Distance'].std()"
			]
		},
		{
			"cell_type": "code",
			"execution_count": 218,
			"metadata": {},
			"outputs": [
				{
					"data": {
						"text/plain": [
							"0.09764079662364533"
						]
					},
					"execution_count": 218,
					"metadata": {},
					"output_type": "execute_result"
				}
			],
			"source": [
				"# Чему равно отклонение (в процентах) медианного значения площади здания от его среднего значения?\n",
				"building_area_median = melb_data['BuildingArea'].median()\n",
				"building_area_mean = melb_data['BuildingArea'].mean()\n",
				"abs(building_area_median - building_area_mean)/building_area_mean"
			]
		},
		{
			"cell_type": "code",
			"execution_count": 219,
			"metadata": {},
			"outputs": [
				{
					"data": {
						"text/plain": [
							"0    2\n",
							"dtype: int64"
						]
					},
					"execution_count": 219,
					"metadata": {},
					"output_type": "execute_result"
				}
			],
			"source": [
				"# Задан ряд чисел [1, 2, 4, 2, 3, 2, 1, 5, 6]. Чему равна мода в данном ряду?\n",
				"row = [1, 2, 4, 2, 3, 2, 1, 5, 6]\n",
				"pd.Series(row).mode()"
			]
		},
		{
			"cell_type": "code",
			"execution_count": 220,
			"metadata": {},
			"outputs": [
				{
					"data": {
						"text/plain": [
							"0    3.0\n",
							"Name: Bedroom, dtype: float64"
						]
					},
					"execution_count": 220,
					"metadata": {},
					"output_type": "execute_result"
				}
			],
			"source": [
				"# Сколько спален чаще всего встречается в домах в Мельбурне?\n",
				"melb_data[\"Bedroom\"].mode()"
			]
		}
	],
	"metadata": {
		"kernelspec": {
			"display_name": "Python 3",
			"language": "python",
			"name": "python3"
		},
		"language_info": {
			"codemirror_mode": {
				"name": "ipython",
				"version": 3
			},
			"file_extension": ".py",
			"mimetype": "text/x-python",
			"name": "python",
			"nbconvert_exporter": "python",
			"pygments_lexer": "ipython3",
			"version": "3.12.2"
		}
	},
	"nbformat": 4,
	"nbformat_minor": 2
}
